version https://git-lfs.github.com/spec/v1
oid sha256:d41b6ac80b614e5550d93e21de0a54580b77fa97f4fd7ce9e6b493ee2aa9142e
size 34733878
